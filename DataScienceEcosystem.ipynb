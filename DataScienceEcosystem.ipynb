{
 "cells": [
  {
   "cell_type": "markdown",
   "id": "211af883-dbf5-4159-9ac1-8a54b884b1ca",
   "metadata": {},
   "source": [
    "# Data Science Tools and Ecosystem"
   ]
  },
  {
   "cell_type": "markdown",
   "id": "38565cd0-7675-4d44-97cb-461e4ffa7107",
   "metadata": {},
   "source": [
    "In this notebook, Data Science Tools and Ecosystem are summarized."
   ]
  },
  {
   "cell_type": "markdown",
   "id": "899d03d2-b1bd-42e6-aaf7-e563e89ae0d6",
   "metadata": {},
   "source": [
    "Some of the popular languages that Data Scientists use are:"
   ]
  },
  {
   "cell_type": "markdown",
   "id": "5a56bca5-aafb-4666-a907-7ff65c24782b",
   "metadata": {},
   "source": [
    "1. Python\n",
    "2. R\n",
    "3. SQL"
   ]
  },
  {
   "cell_type": "markdown",
   "id": "82a765e2-7044-4e10-ab2f-e8803a4612ca",
   "metadata": {},
   "source": [
    "Some of the commonly used libraries used by Data Scientists include:\n",
    "1. Pandas\n",
    "2. NumPy\n",
    "3. SciPy"
   ]
  },
  {
   "cell_type": "markdown",
   "id": "0e64c28a-bc7d-4af3-b233-d972ca362b4b",
   "metadata": {},
   "source": [
    "Some of development environment open source tools used in data science include:"
   ]
  },
  {
   "cell_type": "markdown",
   "id": "32e199de-1f10-4807-9ecf-e53a42db6760",
   "metadata": {},
   "source": [
    "| Data Science Tools |\n",
    "| ------------------ |\n",
    "| RStudio |\n",
    "| Apache Spark |\n",
    "| Jupyter Notebook |"
   ]
  },
  {
   "cell_type": "markdown",
   "id": "661e00df-f8c7-4e82-a1f7-29cff6ad74f1",
   "metadata": {},
   "source": [
    "### Below are a few examples of evaluating arithmetic expressions in Python"
   ]
  },
  {
   "cell_type": "markdown",
   "id": "0e1fe877-14f9-40ad-b028-9aabb387333a",
   "metadata": {},
   "source": [
    "This a simple arithmetic expression to mutiply then add integers:"
   ]
  },
  {
   "cell_type": "code",
   "execution_count": 2,
   "id": "d54353a2-a7f2-46b6-a83f-f72d573400bc",
   "metadata": {
    "tags": []
   },
   "outputs": [
    {
     "data": {
      "text/plain": [
       "17"
      ]
     },
     "execution_count": 2,
     "metadata": {},
     "output_type": "execute_result"
    }
   ],
   "source": [
    "(3*4)+5"
   ]
  },
  {
   "cell_type": "markdown",
   "id": "e35be060-09ef-4644-a5de-34e049695007",
   "metadata": {},
   "source": [
    "This will convert 200 minutes to hours by diving by 60:"
   ]
  },
  {
   "cell_type": "code",
   "execution_count": 4,
   "id": "59c67d29-ae68-45ba-b081-6c1c55fb4074",
   "metadata": {
    "tags": []
   },
   "outputs": [
    {
     "data": {
      "text/plain": [
       "3.3333333333333335"
      ]
     },
     "execution_count": 4,
     "metadata": {},
     "output_type": "execute_result"
    }
   ],
   "source": [
    "200/60"
   ]
  },
  {
   "cell_type": "markdown",
   "id": "7f8a4a03-293a-4fc0-8f9b-0e35962cb96b",
   "metadata": {},
   "source": [
    "Objectives:"
   ]
  },
  {
   "cell_type": "markdown",
   "id": "7dfca543-8f2d-4f95-a132-ddd1d646ae06",
   "metadata": {},
   "source": [
    "- Define a Jupyter Notebook\n",
    "- Explain How to use JupyterLab\n",
    "- Describe how to use notebook in Jupyter Lab\n",
    "- Present the Notebook\n",
    "- Shutdown the Notebook"
   ]
  },
  {
   "cell_type": "markdown",
   "id": "509c4d91-9636-4e83-9a88-ec2caf46513e",
   "metadata": {},
   "source": [
    "## Author"
   ]
  },
  {
   "cell_type": "markdown",
   "id": "3d01b827-dff9-44f6-b0dc-9c9a367775d4",
   "metadata": {},
   "source": [
    "Lele Ouyang"
   ]
  },
  {
   "cell_type": "code",
   "execution_count": null,
   "id": "9146bffa-bb16-4bb8-a052-c91330652091",
   "metadata": {},
   "outputs": [],
   "source": []
  }
 ],
 "metadata": {
  "kernelspec": {
   "display_name": "Python",
   "language": "python",
   "name": "conda-env-python-py"
  },
  "language_info": {
   "codemirror_mode": {
    "name": "ipython",
    "version": 3
   },
   "file_extension": ".py",
   "mimetype": "text/x-python",
   "name": "python",
   "nbconvert_exporter": "python",
   "pygments_lexer": "ipython3",
   "version": "3.7.12"
  }
 },
 "nbformat": 4,
 "nbformat_minor": 5
}
